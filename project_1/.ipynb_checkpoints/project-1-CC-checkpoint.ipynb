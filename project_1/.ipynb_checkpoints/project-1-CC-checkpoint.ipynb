{
 "cells": [
  {
   "cell_type": "markdown",
   "metadata": {},
   "source": [
    "<img src=\"http://imgur.com/1ZcRyrc.png\" style=\"float: left; margin: 20px; height: 55px\">\n",
    "\n",
    "# Project 1: Python Coding Exercises\n",
    "\n",
    "_Authors: Joseph Nelson (DC)_\n",
    "\n",
    "---"
   ]
  },
  {
   "cell_type": "markdown",
   "metadata": {},
   "source": [
    "The following code challenges are drawn from common exercises used in technical interviews.\n",
    "\n",
    "Please note that there may be several ways to approach each challenge. If you get stuck, try mapping out your approach in pseudocode first. Finally, while solutions to problems like these may be found online, remember that if you copy/paste code that you can't explain, you'll be missing out on the point of the project. The only way to truly learn a new skill is through practice, trial, and error - we can only help you improve by understanding where you are having trouble."
   ]
  },
  {
   "cell_type": "markdown",
   "metadata": {},
   "source": [
    "### Challenge 1: Largest Palindrome\n",
    "A palindromic number reads the same both ways. For example, 1234321 is a palindrome. The largest palindrome made from the product of two two-digit numbers is 9009 = 91 × 99. Find the largest palindrome made from the product of two three-digit numbers. Afterward, write a brief explanation walking through your code's logic in markdown."
   ]
  },
  {
   "cell_type": "code",
   "execution_count": 14,
   "metadata": {},
   "outputs": [
    {
     "data": {
      "text/plain": [
       "36863"
      ]
     },
     "execution_count": 14,
     "metadata": {},
     "output_type": "execute_result"
    }
   ],
   "source": [
    "# get_largest_palindrome returns the largest palindrome that exists \n",
    "# between the product of two digits within a given range.\n",
    "\n",
    "# Iterates through a range 2 times to get the product of every combination of digits\n",
    "# within the given range. The product is checked as a string and the reversed value of \n",
    "        \n",
    "def get_largest_palindrome(digit1, digit2):\n",
    "    palindromes = []\n",
    "    for m in range(digit1, digit2):\n",
    "        for n in range(digit1, digit2):\n",
    "            product = m * n\n",
    "            value = str(product)\n",
    "            reversed_value = ''.join(reversed(value))\n",
    "            if value == reversed_value:\n",
    "                palindromes.append(product)\n",
    "    if len(palindromes) == 0:\n",
    "        print('No palindromes found.')\n",
    "    else:\n",
    "        return max(palindromes)\n",
    "    \n",
    "get_largest_palindrome(10,200)"
   ]
  },
  {
   "cell_type": "markdown",
   "metadata": {},
   "source": [
    "**Explanation** <br />\n",
    "get_largest_palindrome returns the largest palindrome that exists between the product of two digits within a given range by iterating through a range twice and taking the product of each iteration.\n",
    "\n",
    "We check for palindromes if the string of the product is equal to the reverse of it. If the product is a palindrome, then we append the value to a list. After the final iteration, we get the max value of the list, which is the max palindrome."
   ]
  },
  {
   "cell_type": "markdown",
   "metadata": {},
   "source": [
    "\n",
    "### Challenge 2: Summation of Primes\n",
    "The sum of the primes below 10 is 2 + 3 + 5 + 7 = 17. Find the sum of all the primes below 2,000. Afterward, write a brief explanation walking through your code's logic in markdown."
   ]
  },
  {
   "cell_type": "code",
   "execution_count": 26,
   "metadata": {},
   "outputs": [
    {
     "name": "stdout",
     "output_type": "stream",
     "text": [
      "summation of primes below 10 is: 17\n",
      "summation of primes below 2000 is: 277050\n"
     ]
    }
   ],
   "source": [
    "def is_prime(n):\n",
    "    for i in range(2,n):\n",
    "        if n % i == 0:\n",
    "            return False\n",
    "    return True\n",
    "\n",
    "def get_summation_of_primes(n):\n",
    "    prime_numbers = []\n",
    "    for i in range(2,n):\n",
    "        if is_prime(i) == True:\n",
    "            prime_numbers.append(i)\n",
    "    return sum(prime_numbers)\n",
    "\n",
    "print('summation of primes below 10 is: ' + str(get_summation_of_primes(10)))\n",
    "print('summation of primes below 2000 is: ' + str(get_summation_of_primes(2000)))"
   ]
  },
  {
   "cell_type": "markdown",
   "metadata": {},
   "source": [
    "We have a helper function that checks if a number is prime or not.\n",
    "\n",
    "Then we have another function that takes in a number and iterates through a range from 2 to the number. Each iteration checks if the value from the range is a prime number by calling the is_prime function and if is_prime returns True we append the value from the range into our list of prime numbers. After the iteration is finsihed, we sum up all the values in the list of prime numbers."
   ]
  },
  {
   "cell_type": "markdown",
   "metadata": {},
   "source": [
    "### Challenge 3: Multiples of 3 and 5\n",
    "If we list all of the natural numbers below 10 that are multiples of 3 or 5, we get 3, 5, 6, and 9. The sum of these multiples is 23. Find the sum of all the multiples of 3 and 5 below 1,000. Afterward, write a brief explanation walking through your code's logic in markdown."
   ]
  },
  {
   "cell_type": "code",
   "execution_count": 28,
   "metadata": {},
   "outputs": [
    {
     "name": "stdout",
     "output_type": "stream",
     "text": [
      "Sum of all the multiples of 3 and 5 below 10: 23\n",
      "Sum of all the multiples of 3 and 5 below 1000: 233168\n"
     ]
    }
   ],
   "source": [
    "def is_multiple_of_3(n):\n",
    "    if n % 3 == 0:\n",
    "        return True\n",
    "    else:\n",
    "        return False\n",
    "    \n",
    "def is_multiple_of_5(n):\n",
    "    if n % 5 == 0:\n",
    "        return True\n",
    "    else:\n",
    "        return False\n",
    "    \n",
    "def sum_multiples_of_3_or_5(n):\n",
    "    multiples_of_3_or_5 = []\n",
    "    for i in range(3, n):\n",
    "        if is_multiple_of_3(i) or is_multiple_of_5(i):\n",
    "            multiples_of_3_or_5.append(i)\n",
    "    return sum(multiples_of_3_or_5)\n",
    "\n",
    "print('Sum of all the multiples of 3 and 5 below 10: ' + str(sum_multiples_of_3_or_5(10)))\n",
    "print('Sum of all the multiples of 3 and 5 below 1000: ' + str(sum_multiples_of_3_or_5(1000)))"
   ]
  },
  {
   "cell_type": "markdown",
   "metadata": {},
   "source": [
    "**Explanation** <br />\n",
    "Check multiples by iterating through a range of number given the max value of the range. If a value is a multiple of 3 or 5, we append the value into a list. At the end of the iteration we return the summation of our list of multiples."
   ]
  },
  {
   "cell_type": "markdown",
   "metadata": {},
   "source": [
    "### Challenge 4: String Compressor\n",
    "Implement a method to perform basic string compression using the counts of repeated characters. (This is called run-length encoding.) For example, the string \"aabcccccaaa\" would become a2b1c5a3. If the “compressed” string would not become smaller than the original string, your method should return the original string. You can assume the string has only uppercase and lowercase letters (a–z). Specify whether your solution is case sensitive or case insensitive and what you would need to change to make it the other. Afterward, write a brief explanation walking through your code's logic in markdown."
   ]
  },
  {
   "cell_type": "code",
   "execution_count": 15,
   "metadata": {},
   "outputs": [
    {
     "name": "stdout",
     "output_type": "stream",
     "text": [
      "aabcccccaaa is compressed to: a2b1c5a3\n",
      "a is compressed to: a\n",
      "aa is compressed to: aa\n",
      "aaa is compressed to: a3\n",
      "aabccCCCaaa is compressed to: a2b1c2C3a3\n"
     ]
    }
   ],
   "source": [
    "# if two characters match, then count +1\n",
    "def compress_string(word):    \n",
    "    if len(word) < 3:\n",
    "        return word\n",
    "    compressed = ''\n",
    "    for i in range(0, len(word)):        \n",
    "        if i == 0:\n",
    "            compressed = compressed + word[0]\n",
    "            count = 0\n",
    "        char = word[i]\n",
    "        previous_char = compressed[-1]\n",
    "        if char == previous_char:\n",
    "            count += 1\n",
    "        else:\n",
    "            compressed = compressed + str(count) + char\n",
    "            count = 1\n",
    "    compressed = compressed + str(count)\n",
    "    if len(compressed) < len(word):\n",
    "        return compressed\n",
    "    else:\n",
    "        return word\n",
    "            \n",
    "print('aabcccccaaa is compressed to: ' + compress_string('aabcccccaaa'))\n",
    "print('a is compressed to: ' + compress_string('a'))\n",
    "print('aa is compressed to: ' + compress_string('aa'))\n",
    "print('aaa is compressed to: ' + compress_string('aaa'))\n",
    "print('aabccCCCaaa is compressed to: ' + compress_string('aabccCCCaaa'))"
   ]
  },
  {
   "cell_type": "markdown",
   "metadata": {},
   "source": [
    "**Explanation** <br />\n",
    "If a word has less than 3 characters, then it cannot be compressed. If it word can be compressed, we create an empty string to store the compressed string to be built.\n",
    "\n",
    "Then we iterate through each character of a given string. As we iterate through the string being evaluated we'll build out our empty string as a compressed string.\n",
    "\n",
    "The first character always gets added into the compressed string. For each of the following character, we'll see if it matches the previous one. If it matches, then we'll increase our counter by 1. If it doesn't we'll add the counter value into the compressed string and reset the counter.\n",
    "\n",
    "After the final character, we'll check to see if the length of the compressed string is less than the original string. If the length of the compressed string is less than the length of the original string, then we'll return the compressed string. Otherwise, we'll return the orignal string.\n",
    "\n",
    "This solution is case sensitive. If we wanted a solution that isn't case sensitive, we could lowercase or uppercase the word argument before any of the other computations."
   ]
  },
  {
   "cell_type": "markdown",
   "metadata": {},
   "source": [
    "### *BONUS* Challenge: FizzBuzz\n",
    "Write a program that prints all of the numbers from 1 to 100. For multiples of 3, instead of the number, print \"Fizz;\" for multiples of 5, print \"Buzz.\" For numbers that are multiples of both 3 and 5, print \"FizzBuzz.\" Afterward, write a brief explanation walking through your code's logic in markdown."
   ]
  },
  {
   "cell_type": "code",
   "execution_count": 13,
   "metadata": {},
   "outputs": [
    {
     "name": "stdout",
     "output_type": "stream",
     "text": [
      "1\n",
      "2\n",
      "Fizz\n",
      "4\n",
      "Buzz\n",
      "Fizz\n",
      "7\n",
      "8\n",
      "Fizz\n",
      "Buzz\n",
      "11\n",
      "Fizz\n",
      "13\n",
      "14\n",
      "FizzBuzz\n",
      "16\n",
      "17\n",
      "Fizz\n",
      "19\n",
      "Buzz\n",
      "Fizz\n",
      "22\n",
      "23\n",
      "Fizz\n",
      "Buzz\n",
      "26\n",
      "Fizz\n",
      "28\n",
      "29\n",
      "FizzBuzz\n",
      "31\n",
      "32\n",
      "Fizz\n",
      "34\n",
      "Buzz\n",
      "Fizz\n",
      "37\n",
      "38\n",
      "Fizz\n",
      "Buzz\n",
      "41\n",
      "Fizz\n",
      "43\n",
      "44\n",
      "FizzBuzz\n",
      "46\n",
      "47\n",
      "Fizz\n",
      "49\n",
      "Buzz\n",
      "Fizz\n",
      "52\n",
      "53\n",
      "Fizz\n",
      "Buzz\n",
      "56\n",
      "Fizz\n",
      "58\n",
      "59\n",
      "FizzBuzz\n",
      "61\n",
      "62\n",
      "Fizz\n",
      "64\n",
      "Buzz\n",
      "Fizz\n",
      "67\n",
      "68\n",
      "Fizz\n",
      "Buzz\n",
      "71\n",
      "Fizz\n",
      "73\n",
      "74\n",
      "FizzBuzz\n",
      "76\n",
      "77\n",
      "Fizz\n",
      "79\n",
      "Buzz\n",
      "Fizz\n",
      "82\n",
      "83\n",
      "Fizz\n",
      "Buzz\n",
      "86\n",
      "Fizz\n",
      "88\n",
      "89\n",
      "FizzBuzz\n",
      "91\n",
      "92\n",
      "Fizz\n",
      "94\n",
      "Buzz\n",
      "Fizz\n",
      "97\n",
      "98\n",
      "Fizz\n",
      "Buzz\n"
     ]
    }
   ],
   "source": [
    "def fizz_buzz(x, y):\n",
    "    for n in range(x, y):\n",
    "        f, b = '',''\n",
    "        if n % 3 == 0:\n",
    "            f = 'Fizz'\n",
    "        if n % 5 == 0:\n",
    "            b = 'Buzz'\n",
    "        if f + b == '':\n",
    "            print(n)\n",
    "        else:\n",
    "            print(f + b)\n",
    "\n",
    "fizz_buzz(1, 101)"
   ]
  },
  {
   "cell_type": "markdown",
   "metadata": {},
   "source": [
    "**Explanation** <br />\n",
    "For a given range of numbers, we iterate through each number and check if it is a multiple of 3 or 5 by checking if the modulus is 0. If the number is a multiple of 3 or 5 we store values \"Fizz\" or \"Buzz\" to the variables f and b. We check if f and b were not reassigned to \"Fizz\" or \"Buzz\" then we print the number of the iteration. Otherwise, we print the addition of f and b which will either be \"Fizz\", \"Buzz\", or \"FizzBuzz\"."
   ]
  }
 ],
 "metadata": {
  "anaconda-cloud": {},
  "kernelspec": {
   "display_name": "Python 3",
   "language": "python",
   "name": "python3"
  },
  "language_info": {
   "codemirror_mode": {
    "name": "ipython",
    "version": 3
   },
   "file_extension": ".py",
   "mimetype": "text/x-python",
   "name": "python",
   "nbconvert_exporter": "python",
   "pygments_lexer": "ipython3",
   "version": "3.6.5"
  }
 },
 "nbformat": 4,
 "nbformat_minor": 2
}
