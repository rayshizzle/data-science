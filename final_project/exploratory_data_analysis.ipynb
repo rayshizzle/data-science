{
 "cells": [
  {
   "cell_type": "code",
   "execution_count": 6,
   "metadata": {},
   "outputs": [],
   "source": [
    "# # If data set is too large, use the random sample below!\n",
    "\n",
    "# import pandas as pd\n",
    "# import random\n",
    "\n",
    "# # since the file has over 2 million rows, we'll take a sample of 10000\n",
    "# filename = \"./lending-club-loan-data/loan.csv\"\n",
    "# n = sum(1 for line in open(filename)) - 1 #number of records in file (excludes header)\n",
    "# s = 10000 #desired sample size\n",
    "# skip = sorted(random.sample(xrange(1,n+1),n-s)) #the 0-indexed header will not be included in the skip list\n",
    "# df = pd.read_csv(filename, skiprows=skip)\n"
   ]
  },
  {
   "cell_type": "code",
   "execution_count": 9,
   "metadata": {},
   "outputs": [],
   "source": [
    "import pandas as pd\n",
    "filename = \"./lending-club-loan-data/loan.csv\"\n",
    "loans = pd.read_csv(filename, low_memory=False)"
   ]
  },
  {
   "cell_type": "code",
   "execution_count": 10,
   "metadata": {},
   "outputs": [
    {
     "data": {
      "text/plain": [
       "(2260668, 145)"
      ]
     },
     "execution_count": 10,
     "metadata": {},
     "output_type": "execute_result"
    }
   ],
   "source": [
    "# Take a look at how big the data set is...\n",
    "# looks like it has over 2 million rows!\n",
    "loans.shape"
   ]
  },
  {
   "cell_type": "code",
   "execution_count": 12,
   "metadata": {},
   "outputs": [
    {
     "data": {
      "text/plain": [
       "id                                            float64\n",
       "member_id                                     float64\n",
       "loan_amnt                                       int64\n",
       "funded_amnt                                     int64\n",
       "funded_amnt_inv                               float64\n",
       "term                                           object\n",
       "int_rate                                      float64\n",
       "installment                                   float64\n",
       "grade                                          object\n",
       "sub_grade                                      object\n",
       "emp_title                                      object\n",
       "emp_length                                     object\n",
       "home_ownership                                 object\n",
       "annual_inc                                    float64\n",
       "verification_status                            object\n",
       "issue_d                                        object\n",
       "loan_status                                    object\n",
       "pymnt_plan                                     object\n",
       "url                                           float64\n",
       "desc                                           object\n",
       "purpose                                        object\n",
       "title                                          object\n",
       "zip_code                                       object\n",
       "addr_state                                     object\n",
       "dti                                           float64\n",
       "delinq_2yrs                                   float64\n",
       "earliest_cr_line                               object\n",
       "inq_last_6mths                                float64\n",
       "mths_since_last_delinq                        float64\n",
       "mths_since_last_record                        float64\n",
       "                                               ...   \n",
       "sec_app_open_acc                              float64\n",
       "sec_app_revol_util                            float64\n",
       "sec_app_open_act_il                           float64\n",
       "sec_app_num_rev_accts                         float64\n",
       "sec_app_chargeoff_within_12_mths              float64\n",
       "sec_app_collections_12_mths_ex_med            float64\n",
       "sec_app_mths_since_last_major_derog           float64\n",
       "hardship_flag                                  object\n",
       "hardship_type                                  object\n",
       "hardship_reason                                object\n",
       "hardship_status                                object\n",
       "deferral_term                                 float64\n",
       "hardship_amount                               float64\n",
       "hardship_start_date                            object\n",
       "hardship_end_date                              object\n",
       "payment_plan_start_date                        object\n",
       "hardship_length                               float64\n",
       "hardship_dpd                                  float64\n",
       "hardship_loan_status                           object\n",
       "orig_projected_additional_accrued_interest    float64\n",
       "hardship_payoff_balance_amount                float64\n",
       "hardship_last_payment_amount                  float64\n",
       "disbursement_method                            object\n",
       "debt_settlement_flag                           object\n",
       "debt_settlement_flag_date                      object\n",
       "settlement_status                              object\n",
       "settlement_date                                object\n",
       "settlement_amount                             float64\n",
       "settlement_percentage                         float64\n",
       "settlement_term                               float64\n",
       "Length: 145, dtype: object"
      ]
     },
     "execution_count": 12,
     "metadata": {},
     "output_type": "execute_result"
    }
   ],
   "source": [
    "# Look at the data type of each column...\n",
    "# well there are a lot of features, with floats, strings, and ints\n",
    "loans.dtypes"
   ]
  },
  {
   "cell_type": "code",
   "execution_count": 25,
   "metadata": {},
   "outputs": [
    {
     "data": {
      "text/plain": [
       "id                                            2260668\n",
       "member_id                                     2260668\n",
       "loan_amnt                                           0\n",
       "funded_amnt                                         0\n",
       "funded_amnt_inv                                     0\n",
       "term                                                0\n",
       "int_rate                                            0\n",
       "installment                                         0\n",
       "grade                                               0\n",
       "sub_grade                                           0\n",
       "emp_title                                      166969\n",
       "emp_length                                     146907\n",
       "home_ownership                                      0\n",
       "annual_inc                                          4\n",
       "verification_status                                 0\n",
       "issue_d                                             0\n",
       "loan_status                                         0\n",
       "pymnt_plan                                          0\n",
       "url                                           2260668\n",
       "desc                                          2134601\n",
       "purpose                                             0\n",
       "title                                           23325\n",
       "zip_code                                            1\n",
       "addr_state                                          0\n",
       "dti                                              1711\n",
       "delinq_2yrs                                        29\n",
       "earliest_cr_line                                   29\n",
       "inq_last_6mths                                     30\n",
       "mths_since_last_delinq                        1158502\n",
       "mths_since_last_record                        1901512\n",
       "                                               ...   \n",
       "sec_app_open_acc                              2152647\n",
       "sec_app_revol_util                            2154484\n",
       "sec_app_open_act_il                           2152647\n",
       "sec_app_num_rev_accts                         2152647\n",
       "sec_app_chargeoff_within_12_mths              2152647\n",
       "sec_app_collections_12_mths_ex_med            2152647\n",
       "sec_app_mths_since_last_major_derog           2224726\n",
       "hardship_flag                                       0\n",
       "hardship_type                                 2250055\n",
       "hardship_reason                               2250055\n",
       "hardship_status                               2250055\n",
       "deferral_term                                 2250055\n",
       "hardship_amount                               2250055\n",
       "hardship_start_date                           2250055\n",
       "hardship_end_date                             2250055\n",
       "payment_plan_start_date                       2250055\n",
       "hardship_length                               2250055\n",
       "hardship_dpd                                  2250055\n",
       "hardship_loan_status                          2250055\n",
       "orig_projected_additional_accrued_interest    2252242\n",
       "hardship_payoff_balance_amount                2250055\n",
       "hardship_last_payment_amount                  2250055\n",
       "disbursement_method                                 0\n",
       "debt_settlement_flag                                0\n",
       "debt_settlement_flag_date                     2227612\n",
       "settlement_status                             2227612\n",
       "settlement_date                               2227612\n",
       "settlement_amount                             2227612\n",
       "settlement_percentage                         2227612\n",
       "settlement_term                               2227612\n",
       "Length: 145, dtype: int64"
      ]
     },
     "execution_count": 25,
     "metadata": {},
     "output_type": "execute_result"
    }
   ],
   "source": [
    "# Checking for null values...\n",
    "# there are quite a few columns with all nulls and some with mostly nulls\n",
    "# this is good because we have over 100 features and reducing our features will help!\n",
    "loans_null = loans.isnull().sum()\n",
    "loans_null"
   ]
  },
  {
   "cell_type": "code",
   "execution_count": 43,
   "metadata": {},
   "outputs": [
    {
     "name": "stdout",
     "output_type": "stream",
     "text": [
      "86\n"
     ]
    }
   ],
   "source": [
    "# Lets get the columns that only have up to 10% of the values as null\n",
    "# filtering the columns has now reduced the number of features for 145 to 86!\n",
    "new_features = loans_null[loans_null<250000].index.tolist()\n",
    "print(len(new_features))"
   ]
  },
  {
   "cell_type": "code",
   "execution_count": 44,
   "metadata": {},
   "outputs": [
    {
     "name": "stdout",
     "output_type": "stream",
     "text": [
      "32\n",
      "['loan_amnt', 'funded_amnt', 'funded_amnt_inv', 'term', 'int_rate', 'installment', 'grade', 'sub_grade', 'home_ownership', 'verification_status', 'issue_d', 'loan_status', 'pymnt_plan', 'purpose', 'addr_state', 'revol_bal', 'initial_list_status', 'out_prncp', 'out_prncp_inv', 'total_pymnt', 'total_pymnt_inv', 'total_rec_prncp', 'total_rec_int', 'total_rec_late_fee', 'recoveries', 'collection_recovery_fee', 'last_pymnt_amnt', 'policy_code', 'application_type', 'hardship_flag', 'disbursement_method', 'debt_settlement_flag']\n"
     ]
    }
   ],
   "source": [
    "# Even when filtering for no null values, we still have 32 feaures\n",
    "# 32 is a lot so let's go with that for now\n",
    "new_features = loans_null[loans_null<1].index.tolist()\n",
    "print(len(new_features))\n",
    "print(new_features)"
   ]
  },
  {
   "cell_type": "code",
   "execution_count": 36,
   "metadata": {},
   "outputs": [],
   "source": [
    "loans = loans[new_features]"
   ]
  },
  {
   "cell_type": "code",
   "execution_count": 53,
   "metadata": {},
   "outputs": [
    {
     "name": "stdout",
     "output_type": "stream",
     "text": [
      "#### loan_status ####\n",
      "Fully Paid                                             1041952\n",
      "Current                                                 919695\n",
      "Charged Off                                             261655\n",
      "Late (31-120 days)                                       21897\n",
      "In Grace Period                                           8952\n",
      "Late (16-30 days)                                         3737\n",
      "Does not meet the credit policy. Status:Fully Paid        1988\n",
      "Does not meet the credit policy. Status:Charged Off        761\n",
      "Default                                                     31\n",
      "Name: loan_status, dtype: int64\n"
     ]
    }
   ],
   "source": [
    "# Exploring potential y value to predict\n",
    "#  this will help determine which future should be our predicted value (y)\n",
    "\n",
    "print(\"#### loan_status ####\")\n",
    "print(loans.loan_status.value_counts())"
   ]
  },
  {
   "cell_type": "code",
   "execution_count": 51,
   "metadata": {},
   "outputs": [
    {
     "data": {
      "text/plain": [
       "Fully Paid     1041952\n",
       "Charged Off     261655\n",
       "Name: loan_status, dtype: int64"
      ]
     },
     "execution_count": 51,
     "metadata": {},
     "output_type": "execute_result"
    }
   ],
   "source": [
    "# Looks like we can use loan_status as the value to predict , y\n",
    "# We'll want to simplify it slightly by only using Fully Paid and Charged Off to train and test our model\n",
    "# Reducing loans data set one more time...\n",
    "final_loans = loans.loc[(loans['loan_status'] == 'Fully Paid') | (loans['loan_status'] == 'Charged Off')]\n",
    "final_loans['loan_status'].value_counts()\n",
    "\n",
    "# At this point, for the final project we'll be categorizating loans into whether they are fully paid off or charged off."
   ]
  },
  {
   "cell_type": "code",
   "execution_count": 54,
   "metadata": {},
   "outputs": [
    {
     "name": "stdout",
     "output_type": "stream",
     "text": [
      "\n",
      "#### debt_settlement_flag ####\n",
      "N    1271618\n",
      "Y      31989\n",
      "Name: debt_settlement_flag, dtype: int64\n",
      "\n",
      "#### verification_status ####\n",
      "Source Verified    503726\n",
      "Verified           407676\n",
      "Not Verified       392205\n",
      "Name: verification_status, dtype: int64\n",
      "\n",
      "#### pymnt_plan ####\n",
      "n    1303607\n",
      "Name: pymnt_plan, dtype: int64\n",
      "\n",
      "#### initial_list_status ####\n",
      "w    751214\n",
      "f    552393\n",
      "Name: initial_list_status, dtype: int64\n",
      "\n",
      "#### policy_code ####\n",
      "1    1303607\n",
      "Name: policy_code, dtype: int64\n",
      "\n",
      "#### application_type ####\n",
      "Individual    1280370\n",
      "Joint App       23237\n",
      "Name: application_type, dtype: int64\n",
      "\n",
      "#### hardship_flag ####\n",
      "N    1303606\n",
      "Y          1\n",
      "Name: hardship_flag, dtype: int64\n"
     ]
    }
   ],
   "source": [
    "# Using value counts to see what kind of values are available in some of the features\n",
    "# We're seeing some features with only 1 values. Looks like we can further reduce our features!\n",
    "print(\"\\n#### debt_settlement_flag ####\")\n",
    "print(final_loans.debt_settlement_flag.value_counts())\n",
    "\n",
    "print(\"\\n#### verification_status ####\")\n",
    "print(final_loans.verification_status.value_counts())\n",
    "\n",
    "print(\"\\n#### pymnt_plan ####\")\n",
    "print(final_loans.pymnt_plan.value_counts())\n",
    "\n",
    "print(\"\\n#### initial_list_status ####\")\n",
    "print(final_loans.initial_list_status.value_counts())\n",
    "\n",
    "print(\"\\n#### policy_code ####\")\n",
    "print(final_loans.policy_code.value_counts())\n",
    "\n",
    "print(\"\\n#### application_type ####\")\n",
    "print(final_loans.application_type.value_counts())\n",
    "\n",
    "print(\"\\n#### hardship_flag ####\")\n",
    "print(final_loans.hardship_flag.value_counts())"
   ]
  },
  {
   "cell_type": "code",
   "execution_count": 68,
   "metadata": {
    "scrolled": true
   },
   "outputs": [
    {
     "name": "stdout",
     "output_type": "stream",
     "text": [
      "28\n"
     ]
    },
    {
     "data": {
      "text/plain": [
       "['loan_amnt',\n",
       " 'funded_amnt',\n",
       " 'funded_amnt_inv',\n",
       " 'term',\n",
       " 'int_rate',\n",
       " 'installment',\n",
       " 'grade',\n",
       " 'sub_grade',\n",
       " 'home_ownership',\n",
       " 'verification_status',\n",
       " 'issue_d',\n",
       " 'loan_status',\n",
       " 'purpose',\n",
       " 'addr_state',\n",
       " 'revol_bal',\n",
       " 'initial_list_status',\n",
       " 'total_pymnt',\n",
       " 'total_pymnt_inv',\n",
       " 'total_rec_prncp',\n",
       " 'total_rec_int',\n",
       " 'total_rec_late_fee',\n",
       " 'recoveries',\n",
       " 'collection_recovery_fee',\n",
       " 'last_pymnt_amnt',\n",
       " 'application_type',\n",
       " 'hardship_flag',\n",
       " 'disbursement_method',\n",
       " 'debt_settlement_flag']"
      ]
     },
     "execution_count": 68,
     "metadata": {},
     "output_type": "execute_result"
    }
   ],
   "source": [
    "# get list of features with only 1 type of value\n",
    "final_loan_columns = final_loans.columns.tolist()\n",
    "useful_loan_columns = []\n",
    "for c in final_loan_columns:\n",
    "    if len(final_loans[c].unique()) > 1:\n",
    "        useful_loan_columns.append(c)\n",
    "print(len(useful_loan_columns))\n",
    "useful_loan_columns"
   ]
  },
  {
   "cell_type": "markdown",
   "metadata": {},
   "source": [
    "After some poor df naming and feature exploration, we've our X and y.\n",
    "\n",
    "X has been reduced from 145 to 27 by excluding the features with null values and\n",
    "exlcuding features that only have 1 unique value.\n",
    "Features with only 1 unique value have been excluded because they don't add any value to\n",
    "the prediction since it's the same constant."
   ]
  },
  {
   "cell_type": "code",
   "execution_count": 69,
   "metadata": {},
   "outputs": [
    {
     "name": "stdout",
     "output_type": "stream",
     "text": [
      "     loan_amnt  funded_amnt  funded_amnt_inv        term  int_rate  \\\n",
      "100      30000        30000          30000.0   36 months     22.35   \n",
      "152      40000        40000          40000.0   60 months     16.14   \n",
      "170      20000        20000          20000.0   36 months      7.56   \n",
      "\n",
      "     installment grade sub_grade home_ownership verification_status  \\\n",
      "100      1151.16     D        D5       MORTGAGE     Source Verified   \n",
      "152       975.71     C        C4       MORTGAGE            Verified   \n",
      "170       622.68     A        A3       MORTGAGE        Not Verified   \n",
      "\n",
      "             ...          total_rec_prncp total_rec_int total_rec_late_fee  \\\n",
      "100          ...                  30000.0         26.44                0.0   \n",
      "152          ...                  40000.0        856.68                0.0   \n",
      "170          ...                  20000.0        215.79                0.0   \n",
      "\n",
      "     recoveries collection_recovery_fee  last_pymnt_amnt  application_type  \\\n",
      "100         0.0                     0.0         30082.32         Joint App   \n",
      "152         0.0                     0.0         40910.48         Joint App   \n",
      "170         0.0                     0.0         20228.39         Joint App   \n",
      "\n",
      "     hardship_flag  disbursement_method  debt_settlement_flag  \n",
      "100              N                 Cash                     N  \n",
      "152              N                 Cash                     N  \n",
      "170              N                 Cash                     N  \n",
      "\n",
      "[3 rows x 27 columns]\n",
      "    loan_status\n",
      "100  Fully Paid\n",
      "152  Fully Paid\n",
      "170  Fully Paid\n"
     ]
    }
   ],
   "source": [
    "\"\"\"\n",
    "After some poor df naming and feature exploration,\n",
    "\"\"\"\n",
    "loans = final_loans[useful_loan_columns]\n",
    "X = loans[['loan_amnt',\n",
    "             'funded_amnt',\n",
    "             'funded_amnt_inv',\n",
    "             'term',\n",
    "             'int_rate',\n",
    "             'installment',\n",
    "             'grade',\n",
    "             'sub_grade',\n",
    "             'home_ownership',\n",
    "             'verification_status',\n",
    "             'issue_d',\n",
    "             'purpose',\n",
    "             'addr_state',\n",
    "             'revol_bal',\n",
    "             'initial_list_status',\n",
    "             'total_pymnt',\n",
    "             'total_pymnt_inv',\n",
    "             'total_rec_prncp',\n",
    "             'total_rec_int',\n",
    "             'total_rec_late_fee',\n",
    "             'recoveries',\n",
    "             'collection_recovery_fee',\n",
    "             'last_pymnt_amnt',\n",
    "             'application_type',\n",
    "             'hardship_flag',\n",
    "             'disbursement_method',\n",
    "             'debt_settlement_flag']]\n",
    "y = loans[['loan_status']]\n",
    "print(X.head(3))\n",
    "print(y.head(3))"
   ]
  },
  {
   "cell_type": "code",
   "execution_count": null,
   "metadata": {},
   "outputs": [],
   "source": []
  }
 ],
 "metadata": {
  "kernelspec": {
   "display_name": "Python 3",
   "language": "python",
   "name": "python3"
  },
  "language_info": {
   "codemirror_mode": {
    "name": "ipython",
    "version": 3
   },
   "file_extension": ".py",
   "mimetype": "text/x-python",
   "name": "python",
   "nbconvert_exporter": "python",
   "pygments_lexer": "ipython3",
   "version": "3.6.5"
  }
 },
 "nbformat": 4,
 "nbformat_minor": 2
}
